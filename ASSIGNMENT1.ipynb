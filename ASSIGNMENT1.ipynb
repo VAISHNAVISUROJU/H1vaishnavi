{
  "nbformat": 4,
  "nbformat_minor": 0,
  "metadata": {
    "colab": {
      "provenance": [],
      "authorship_tag": "ABX9TyPrFwNdjgDKtky3212iPK/5",
      "include_colab_link": true
    },
    "kernelspec": {
      "name": "python3",
      "display_name": "Python 3"
    },
    "language_info": {
      "name": "python"
    }
  },
  "cells": [
    {
      "cell_type": "markdown",
      "metadata": {
        "id": "view-in-github",
        "colab_type": "text"
      },
      "source": [
        "<a href=\"https://colab.research.google.com/github/VAISHNAVISUROJU/H1vaishnavi/blob/main/ASSIGNMENT1.ipynb\" target=\"_parent\"><img src=\"https://colab.research.google.com/assets/colab-badge.svg\" alt=\"Open In Colab\"/></a>"
      ]
    },
    {
      "cell_type": "markdown",
      "source": [
        "BASIC PYTHON\n"
      ],
      "metadata": {
        "id": "-sVAMzJyjETK"
      }
    },
    {
      "cell_type": "code",
      "execution_count": null,
      "metadata": {
        "colab": {
          "base_uri": "https://localhost:8080/"
        },
        "id": "bZ09NbMrYzc2",
        "outputId": "f7ee6919-4a18-4e2e-ddf8-af9f1e5dda9c"
      },
      "outputs": [
        {
          "output_type": "stream",
          "name": "stdout",
          "text": [
            "<class 'int'>\n"
          ]
        }
      ],
      "source": [
        "# Write a Python program to declare a variable x with the value 10 and print its type.\n",
        "x = 10\n",
        "print(type(x))\n"
      ]
    },
    {
      "cell_type": "code",
      "source": [
        "# Write a Python program to declare three variables a = 5, b = 10, and c = 15, and print their sum.\n",
        "a = 5\n",
        "b = 10\n",
        "c = 15\n",
        "print(a+b+c)"
      ],
      "metadata": {
        "colab": {
          "base_uri": "https://localhost:8080/"
        },
        "id": "8gcKEKhpF_Pe",
        "outputId": "35231906-f654-47c7-d38b-3f4f1009d577"
      },
      "execution_count": null,
      "outputs": [
        {
          "output_type": "stream",
          "name": "stdout",
          "text": [
            "30\n"
          ]
        }
      ]
    },
    {
      "cell_type": "code",
      "source": [
        "# Write a Python program that checks and prints the type of a variable (e.g., int, float, str, etc.).\n",
        "x = 5.6\n",
        "print(type(x))"
      ],
      "metadata": {
        "colab": {
          "base_uri": "https://localhost:8080/"
        },
        "id": "cJKuJEIrGUyp",
        "outputId": "6750fe9f-e24d-4695-80dc-351b50973d96"
      },
      "execution_count": null,
      "outputs": [
        {
          "output_type": "stream",
          "name": "stdout",
          "text": [
            "<class 'float'>\n"
          ]
        }
      ]
    },
    {
      "cell_type": "code",
      "source": [
        "# Write a Python program that checks and prints the type of a variable (e.g., int, float, str, etc.).\n",
        "x = \"vaish\"\n",
        "print(type(x))"
      ],
      "metadata": {
        "colab": {
          "base_uri": "https://localhost:8080/"
        },
        "id": "5pYFWpztHamp",
        "outputId": "8c8b2ee3-8a0d-41cd-caf9-ffde5a90ddab"
      },
      "execution_count": null,
      "outputs": [
        {
          "output_type": "stream",
          "name": "stdout",
          "text": [
            "<class 'str'>\n"
          ]
        }
      ]
    },
    {
      "cell_type": "code",
      "source": [
        "# Write a Python program to perform addition, subtraction, multiplication, and division on two numbers. (User input is required for the numbers)\n",
        "a = 8\n",
        "b = 4\n",
        "print(a - b)\n",
        "print(a + b)\n",
        "print(a / b)\n",
        "print(a * b)"
      ],
      "metadata": {
        "colab": {
          "base_uri": "https://localhost:8080/"
        },
        "id": "RcZvafVbG6BA",
        "outputId": "86613159-c45c-4560-cdf2-a9fe6ea1872d"
      },
      "execution_count": null,
      "outputs": [
        {
          "output_type": "stream",
          "name": "stdout",
          "text": [
            "4\n",
            "12\n",
            "2.0\n",
            "32\n"
          ]
        }
      ]
    },
    {
      "cell_type": "code",
      "source": [
        "# Write a Python program to convert a string \"123\" to an integer and a float and print the results.\n",
        "a = \"123\"\n",
        "print(int(a))\n",
        "print(float(a))"
      ],
      "metadata": {
        "colab": {
          "base_uri": "https://localhost:8080/"
        },
        "id": "SrSGAAvjHFmk",
        "outputId": "23f50eab-4874-43cc-f60a-11c28725f416"
      },
      "execution_count": null,
      "outputs": [
        {
          "output_type": "stream",
          "name": "stdout",
          "text": [
            "123\n",
            "123.0\n"
          ]
        }
      ]
    },
    {
      "cell_type": "code",
      "source": [
        "# Write a Python program to print the first character of a given string. (User input for the string)\n",
        "y = input(\"Enter a string: \")\n",
        "print(y[0])\n",
        "\n"
      ],
      "metadata": {
        "colab": {
          "base_uri": "https://localhost:8080/"
        },
        "id": "7Z9oJtVdIMJ5",
        "outputId": "58b5635c-1906-4ddf-b069-22df37a936e5"
      },
      "execution_count": null,
      "outputs": [
        {
          "output_type": "stream",
          "name": "stdout",
          "text": [
            "Enter a string: deepu\n",
            "d\n"
          ]
        }
      ]
    },
    {
      "cell_type": "code",
      "source": [
        "# Write a Python program to print the length of a string. (User input for the string)\n",
        "user_string = input(\"Enter a string: \")\n",
        "string_length = len(user_string)\n",
        "print(\"The length of the string is:\", string_length)"
      ],
      "metadata": {
        "colab": {
          "base_uri": "https://localhost:8080/"
        },
        "id": "QoSEepYdIWIC",
        "outputId": "90586b4a-4d30-4168-bd3f-b5aa8a5fd247"
      },
      "execution_count": null,
      "outputs": [
        {
          "output_type": "stream",
          "name": "stdout",
          "text": [
            "Enter a string: vaish\n",
            "The length of the string is: 5\n"
          ]
        }
      ]
    },
    {
      "cell_type": "code",
      "source": [
        "# Write a Python program to check if a given string contains only alphabets.\n",
        "user_string = input(\"Enter a string: \")\n",
        "if user_string.isalpha():\n",
        "    print(\"The string contains only alphabets.\")\n",
        "else:\n",
        "    print(\"The string contains non-alphabetic characters.\")"
      ],
      "metadata": {
        "colab": {
          "base_uri": "https://localhost:8080/"
        },
        "id": "uQjPPM11JBnL",
        "outputId": "55299717-956d-4db2-930e-0d75bbccb5db"
      },
      "execution_count": null,
      "outputs": [
        {
          "output_type": "stream",
          "name": "stdout",
          "text": [
            "Enter a string: vaishnavi\n",
            "The string contains only alphabets.\n"
          ]
        }
      ]
    },
    {
      "cell_type": "code",
      "source": [
        "# Write a Python program to concatenate two strings. (User input for the strings)\n",
        "user_string1 = input(\"Enter the first string: \")\n",
        "user_string2 = input(\"Enter the second string: \")\n",
        "concatenated_string = user_string1 + user_string2\n",
        "print(\"The concatenated string is:\", concatenated_string)"
      ],
      "metadata": {
        "id": "3NYQxB_FXBEn"
      },
      "execution_count": null,
      "outputs": []
    },
    {
      "cell_type": "code",
      "source": [
        "# Write a Python program to format and display a string containing the user's name and age. (User input required)\n",
        "name = input(\"Enter your name: \")\n",
        "age = input(\"Enter your age: \")\n",
        "formatted_string = \"My name is {} and I am {} years old.\".format(name, age)\n",
        "print(formatted_string)\n",
        "\n"
      ],
      "metadata": {
        "colab": {
          "base_uri": "https://localhost:8080/"
        },
        "id": "kUf7iaaFYqH8",
        "outputId": "46b5243a-9c5c-43c2-9c98-958a02b9bed0"
      },
      "execution_count": null,
      "outputs": [
        {
          "output_type": "stream",
          "name": "stdout",
          "text": [
            "Enter your name: vaishnavi suroju\n",
            "Enter your age: 20\n",
            "My name is vaishnavi suroju and I am 20 years old.\n"
          ]
        }
      ]
    },
    {
      "cell_type": "code",
      "source": [
        "# Write a Python program to find the maximum of three numbers. (User input for the numbers)\n",
        "num1 = int(input(\"Enter the first number: \"))\n",
        "num2 = int(input(\"Enter the second number: \"))\n",
        "num3 = int(input(\"Enter the third number: \"))"
      ],
      "metadata": {
        "colab": {
          "base_uri": "https://localhost:8080/"
        },
        "id": "3nyXonRGaCfS",
        "outputId": "0fa3e9c0-d495-48a1-d3ef-f198a01dba54"
      },
      "execution_count": null,
      "outputs": [
        {
          "name": "stdout",
          "output_type": "stream",
          "text": [
            "Enter the first number: 5\n",
            "Enter the second number: 6\n",
            "Enter the third number: 7\n"
          ]
        }
      ]
    },
    {
      "cell_type": "code",
      "source": [
        "# Write a Python program to find the index of a substring \"abc\" in a string. (User input for the string)\n",
        "user_string = input(\"Enter a string: \")\n",
        "substring = \"abc\"\n",
        "index = user_string.find(substring)\n",
        "print(\"The index of 'abc' in the string is:\", index)\n"
      ],
      "metadata": {
        "id": "RPsV26xGORzw",
        "colab": {
          "base_uri": "https://localhost:8080/"
        },
        "outputId": "2947b896-5024-49fb-8f2b-3cf8102f3de6"
      },
      "execution_count": null,
      "outputs": [
        {
          "output_type": "stream",
          "name": "stdout",
          "text": [
            "Enter a string: a\n",
            "The index of 'abc' in the string is: -1\n"
          ]
        }
      ]
    },
    {
      "cell_type": "code",
      "source": [
        "# Write a Python program to convert a string to both uppercase and lowercase. (User input for the string)\n",
        "user_string = input(\"Enter a string: \")\n",
        "uppercase_string = user_string.upper()\n",
        "lowercase_string = user_string.lower()\n",
        "print(\"The uppercase string is:\", uppercase_string)\n",
        "print(\"The lowercase string is:\", lowercase_string)\n"
      ],
      "metadata": {
        "colab": {
          "base_uri": "https://localhost:8080/"
        },
        "id": "J736XKGuaqO2",
        "outputId": "d2d6e1d5-5390-44ea-e845-f454359c5549"
      },
      "execution_count": null,
      "outputs": [
        {
          "output_type": "stream",
          "name": "stdout",
          "text": [
            "Enter a string: apple\n",
            "The uppercase string is: APPLE\n",
            "The lowercase string is: apple\n"
          ]
        }
      ]
    },
    {
      "cell_type": "code",
      "source": [
        "# Write a Python program to count how many times a particular character appears in a string. (User input for string and character)\n",
        "user_string = input(\"Enter a string: \")\n",
        "user_character = input(\"Enter a character: \")\n",
        "count = user_string.count(user_character)\n",
        "print(\"The character '{}' appears {} times in the string.\".format(user_character, count))\n"
      ],
      "metadata": {
        "colab": {
          "base_uri": "https://localhost:8080/"
        },
        "id": "Y_zeyFehkYgi",
        "outputId": "2af7ce60-8202-497d-cf7d-a9a9385142d4"
      },
      "execution_count": null,
      "outputs": [
        {
          "output_type": "stream",
          "name": "stdout",
          "text": [
            "Enter a string: mango\n",
            "Enter a character: m\n",
            "The character 'm' appears 1 times in the string.\n"
          ]
        }
      ]
    },
    {
      "cell_type": "code",
      "source": [
        "# Write a Python program to take the user's name as input and print a personalized greeting. (Hello, username, Good Morning)\n",
        "name = input(\"Enter your name: \")\n",
        "greeting = \"Hello, {}! Good Morning\".format(name)\n",
        "print(greeting)"
      ],
      "metadata": {
        "colab": {
          "base_uri": "https://localhost:8080/"
        },
        "id": "VqP6X3dqk1py",
        "outputId": "bc55b190-1967-41e6-eb23-529031a764b6"
      },
      "execution_count": null,
      "outputs": [
        {
          "output_type": "stream",
          "name": "stdout",
          "text": [
            "Enter your name:  Adeline\n",
            "Hello,  Adeline! Good Morning\n"
          ]
        }
      ]
    },
    {
      "cell_type": "code",
      "source": [
        "# Write a Python program to take two numbers as input and print their sum.\n",
        "A = int(input(\"Enter the first number: \"))\n",
        "B = int(input(\"Enter the second number: \"))\n",
        "sum = A + B\n",
        "print(\"The sum of {} and {} is {}\".format(A, B, sum))"
      ],
      "metadata": {
        "colab": {
          "base_uri": "https://localhost:8080/"
        },
        "id": "XErUqjYYllMj",
        "outputId": "4ed9b6b0-7b18-4f1c-978f-88c013a301b1"
      },
      "execution_count": null,
      "outputs": [
        {
          "output_type": "stream",
          "name": "stdout",
          "text": [
            "Enter the first number: 7\n",
            "Enter the second number: 26\n",
            "The sum of 7 and 26 is 33\n"
          ]
        }
      ]
    },
    {
      "cell_type": "markdown",
      "source": [
        "Control Structures (Conditionals and Loops)\n"
      ],
      "metadata": {
        "id": "drmGRep6mhZy"
      }
    },
    {
      "cell_type": "code",
      "source": [
        "# Write a Python program to find the maximum of three numbers. (User input for the numbers)\n",
        "num1 = int(input(\"Enter the first number: \"))\n",
        "num2 = int(input(\"Enter the second number: \"))\n",
        "num3 = int(input(\"Enter the third number: \"))\n",
        "if num1 >= num2 and num1 >= num3:\n",
        "    print(\"The maximum number is:\", num1)\n",
        "\n"
      ],
      "metadata": {
        "colab": {
          "base_uri": "https://localhost:8080/"
        },
        "id": "nh9YEjH1maUV",
        "outputId": "9e252a26-2269-4a52-94d0-7d31c570469d"
      },
      "execution_count": null,
      "outputs": [
        {
          "name": "stdout",
          "output_type": "stream",
          "text": [
            "Enter the first number: 7\n",
            "Enter the second number: 4\n",
            "Enter the third number: 9\n"
          ]
        }
      ]
    },
    {
      "cell_type": "code",
      "source": [
        "# Write a Python program to check if a year is a leap year. (User input for the year)\n",
        "year = int(input(\"Enter a year: \"))\n",
        "if (year % 4 == 0 and year % 100 != 0) or (year % 400 == 0):\n",
        "    print(year, \"is a leap year.\")\n",
        "\n",
        "else:\n",
        "    print(year, \"is not a leap year.\")"
      ],
      "metadata": {
        "colab": {
          "base_uri": "https://localhost:8080/"
        },
        "id": "mVrKjmR-m_DI",
        "outputId": "7b596763-118f-4c41-b2fa-09cc369e0a1d"
      },
      "execution_count": null,
      "outputs": [
        {
          "output_type": "stream",
          "name": "stdout",
          "text": [
            "Enter a year: 2004\n",
            "2004 is a leap year.\n"
          ]
        }
      ]
    },
    {
      "cell_type": "code",
      "source": [
        "# Write a Python program to check if a number is divisible by both 3 and 5. (User input for the number)\n",
        "num = int(input(\"Enter a number: \"))\n",
        "if num % 3 == 0 and num % 5 == 0:\n",
        "    print(num, \"is divisible by both 3 and 5.\")\n",
        "else:\n",
        "    print(num, \"is not divisible by both 3 and 5.\")\n",
        "\n",
        "\n",
        "\n",
        "\n",
        "\n",
        "\n",
        "\n",
        "\n",
        "\n",
        "\n",
        "\n",
        "\n",
        "\n",
        "\n"
      ],
      "metadata": {
        "colab": {
          "base_uri": "https://localhost:8080/"
        },
        "id": "9ULUeaTbnOOR",
        "outputId": "d6a1d232-8695-4af1-8f7b-73d8f1e23f59"
      },
      "execution_count": null,
      "outputs": [
        {
          "output_type": "stream",
          "name": "stdout",
          "text": [
            "Enter a number: 15\n",
            "15 is divisible by both 3 and 5.\n"
          ]
        }
      ]
    },
    {
      "cell_type": "code",
      "source": [
        "# Write a Python program to print numbers from 1 to 10 using a for loop.\n",
        "for i in range(1, 11):\n",
        "    print(i)\n",
        "\n",
        "\n"
      ],
      "metadata": {
        "colab": {
          "base_uri": "https://localhost:8080/"
        },
        "id": "-JYkdn9AupMz",
        "outputId": "af6b2411-7b72-47f6-d4d5-7af3cf65d4f9"
      },
      "execution_count": null,
      "outputs": [
        {
          "output_type": "stream",
          "name": "stdout",
          "text": [
            "1\n",
            "2\n",
            "3\n",
            "4\n",
            "5\n",
            "6\n",
            "7\n",
            "8\n",
            "9\n",
            "10\n"
          ]
        }
      ]
    },
    {
      "cell_type": "code",
      "source": [
        "# Write a Python program to print all even numbers from 1 to 20 using a while loop.\n",
        "num = 1\n",
        "while num <= 20:\n",
        "    if num % 2 == 0:\n",
        "        print(num)\n",
        "    num += 1\n",
        "\n",
        "\n",
        "\n"
      ],
      "metadata": {
        "colab": {
          "base_uri": "https://localhost:8080/"
        },
        "id": "c0LBq8M_vC0q",
        "outputId": "477ae10e-3fa0-4aca-d729-22420c2bd323"
      },
      "execution_count": null,
      "outputs": [
        {
          "output_type": "stream",
          "name": "stdout",
          "text": [
            "2\n",
            "4\n",
            "6\n",
            "8\n",
            "10\n",
            "12\n",
            "14\n",
            "16\n",
            "18\n",
            "20\n"
          ]
        }
      ]
    },
    {
      "cell_type": "code",
      "source": [
        "# Write a Python program to print the multiplication table of a given number using a for loop. (User input for the number\n",
        "num = int(input(\"Enter a number: \"))\n",
        "for i in range(1, 11):\n",
        "    print(num, \"x\", i, \"=\", num * i)"
      ],
      "metadata": {
        "colab": {
          "base_uri": "https://localhost:8080/"
        },
        "id": "AXRvucrRvKV6",
        "outputId": "c83ef15a-44b4-4651-d21a-99dd34dc0e68"
      },
      "execution_count": null,
      "outputs": [
        {
          "output_type": "stream",
          "name": "stdout",
          "text": [
            "Enter a number: 3\n",
            "3 x 1 = 3\n",
            "3 x 2 = 6\n",
            "3 x 3 = 9\n",
            "3 x 4 = 12\n",
            "3 x 5 = 15\n",
            "3 x 6 = 18\n",
            "3 x 7 = 21\n",
            "3 x 8 = 24\n",
            "3 x 9 = 27\n",
            "3 x 10 = 30\n"
          ]
        }
      ]
    },
    {
      "cell_type": "code",
      "source": [
        "# Write a Python program to calculate the factorial of a number using a while loop. (User input for the number)\n",
        "num = int(input(\"Enter a number: \"))\n",
        "factorial = 1\n",
        "i = 1\n",
        "while i <= num:\n",
        "    factorial *= i\n",
        "    i += 1\n",
        "print(\"The factorial of\", num, \"is\", factorial)"
      ],
      "metadata": {
        "colab": {
          "base_uri": "https://localhost:8080/"
        },
        "id": "8CxyHQ1MZNhj",
        "outputId": "cde4d53b-a5ab-4730-85b3-31068072081d"
      },
      "execution_count": null,
      "outputs": [
        {
          "output_type": "stream",
          "name": "stdout",
          "text": [
            "Enter a number: 3\n",
            "The factorial of 3 is 6\n"
          ]
        }
      ]
    },
    {
      "cell_type": "code",
      "source": [
        "# Write a Python program to print the Fibonacci sequence up to n terms. (User input for n)\n",
        "n = int(input(\"Enter the number of terms: \"))\n",
        "a, b = 0, 1\n",
        "print(\"Fibonacci sequence up to\", n, \"terms:\")\n",
        "for i in range(n):\n",
        "    print(a, end=\" \")\n"
      ],
      "metadata": {
        "colab": {
          "base_uri": "https://localhost:8080/"
        },
        "id": "XOzgS0_uZlh6",
        "outputId": "2fe2a286-bbda-47c8-9ba0-9f80e7a3f37e"
      },
      "execution_count": null,
      "outputs": [
        {
          "output_type": "stream",
          "name": "stdout",
          "text": [
            "Enter the number of terms: 7\n",
            "Fibonacci sequence up to 7 terms:\n",
            "0 0 0 0 0 0 0 "
          ]
        }
      ]
    },
    {
      "cell_type": "code",
      "source": [
        "# Write a Python program to find all the prime numbers from 1 to 100.\n",
        "for num in range(2, 101):\n",
        "    for i in range(2, num):\n",
        "        if (num % i) == 0:\n",
        "            break\n",
        "    else:\n",
        "        print(num)"
      ],
      "metadata": {
        "colab": {
          "base_uri": "https://localhost:8080/"
        },
        "id": "hijLUXDsZ2YC",
        "outputId": "5cb1304f-bd7f-464f-97b0-e0e2f607f852"
      },
      "execution_count": null,
      "outputs": [
        {
          "output_type": "stream",
          "name": "stdout",
          "text": [
            "2\n",
            "3\n",
            "5\n",
            "7\n",
            "11\n",
            "13\n",
            "17\n",
            "19\n",
            "23\n",
            "29\n",
            "31\n",
            "37\n",
            "41\n",
            "43\n",
            "47\n",
            "53\n",
            "59\n",
            "61\n",
            "67\n",
            "71\n",
            "73\n",
            "79\n",
            "83\n",
            "89\n",
            "97\n"
          ]
        }
      ]
    },
    {
      "cell_type": "code",
      "source": [
        "# Write a Python program that breaks out of a loop when a specific condition is met (e.g., when a number greater than 50 is found).\n",
        "for num in range(1, 101):\n",
        "    if num > 50:\n",
        "        break\n",
        "    print(num)"
      ],
      "metadata": {
        "colab": {
          "base_uri": "https://localhost:8080/"
        },
        "id": "MKxpTMhzZ_3s",
        "outputId": "5734ffb7-6b89-40fb-cf3a-fd18f6463c69"
      },
      "execution_count": null,
      "outputs": [
        {
          "output_type": "stream",
          "name": "stdout",
          "text": [
            "1\n",
            "2\n",
            "3\n",
            "4\n",
            "5\n",
            "6\n",
            "7\n",
            "8\n",
            "9\n",
            "10\n",
            "11\n",
            "12\n",
            "13\n",
            "14\n",
            "15\n",
            "16\n",
            "17\n",
            "18\n",
            "19\n",
            "20\n",
            "21\n",
            "22\n",
            "23\n",
            "24\n",
            "25\n",
            "26\n",
            "27\n",
            "28\n",
            "29\n",
            "30\n",
            "31\n",
            "32\n",
            "33\n",
            "34\n",
            "35\n",
            "36\n",
            "37\n",
            "38\n",
            "39\n",
            "40\n",
            "41\n",
            "42\n",
            "43\n",
            "44\n",
            "45\n",
            "46\n",
            "47\n",
            "48\n",
            "49\n",
            "50\n"
          ]
        }
      ]
    },
    {
      "cell_type": "code",
      "source": [
        "# Write a Python program to skip even numbers while printing numbers from 1 to 20 using a for loop.\n",
        "for num in range(1, 21):\n",
        "    if num % 2 == 0:\n",
        "        continue\n",
        "    print(num)"
      ],
      "metadata": {
        "colab": {
          "base_uri": "https://localhost:8080/"
        },
        "id": "zG2bia3HaNcp",
        "outputId": "b8c0c456-403d-483a-bd7e-8f4b8d953449"
      },
      "execution_count": null,
      "outputs": [
        {
          "output_type": "stream",
          "name": "stdout",
          "text": [
            "1\n",
            "3\n",
            "5\n",
            "7\n",
            "9\n",
            "11\n",
            "13\n",
            "15\n",
            "17\n",
            "19\n"
          ]
        }
      ]
    },
    {
      "cell_type": "code",
      "source": [
        "#Write a Python program to count how many times a particular character appears in a string using a for loop. (User input for string and character)\n",
        "user_string = input(\"Enter a string: \")\n",
        "user_character = input(\"Enter a character: \")\n",
        "count = 0\n",
        "for char in user_string:\n",
        "    if char == user_character:\n",
        "        count += 1\n",
        "        print(\"The character '{}' appears {} times in the string.\".format(user_character, count))\n",
        "\n"
      ],
      "metadata": {
        "colab": {
          "base_uri": "https://localhost:8080/"
        },
        "id": "_ljJF3jpaRJM",
        "outputId": "df4a7675-2418-4afe-ea14-ce33c34ac3e5"
      },
      "execution_count": null,
      "outputs": [
        {
          "name": "stdout",
          "output_type": "stream",
          "text": [
            "Enter a string: 6\n",
            "Enter a character: v\n"
          ]
        }
      ]
    },
    {
      "cell_type": "markdown",
      "source": [
        "DATA STRUCTURES (LIST, TUPLES, SETS, DICTIONARIES )\n"
      ],
      "metadata": {
        "id": "ObQAm34wayn7"
      }
    },
    {
      "cell_type": "code",
      "source": [
        "# Write a Python program to create a list of integers and print the sum of the elements.\n",
        "my_list = [1, 2, 3, 4, 5]\n",
        "total = sum(my_list)\n",
        "print(\"The sum of the elements in the list is:\", total)\n"
      ],
      "metadata": {
        "colab": {
          "base_uri": "https://localhost:8080/"
        },
        "id": "ydVydyaTbMGU",
        "outputId": "920ed623-60c7-4dca-b7a6-875aca4cab7b"
      },
      "execution_count": null,
      "outputs": [
        {
          "output_type": "stream",
          "name": "stdout",
          "text": [
            "The sum of the elements in the list is: 15\n"
          ]
        }
      ]
    },
    {
      "cell_type": "code",
      "source": [
        "# Write a Python program to find the largest element in a list.\n",
        "my_list = [10, 20, 30, 40, 50]\n",
        "largest = max(my_list)\n",
        "print(\"The largest element in the list is:\", largest)\n"
      ],
      "metadata": {
        "colab": {
          "base_uri": "https://localhost:8080/"
        },
        "id": "Rc7iY6RYbXDl",
        "outputId": "77287d1c-5634-498e-8e01-0bff517bcd12"
      },
      "execution_count": null,
      "outputs": [
        {
          "output_type": "stream",
          "name": "stdout",
          "text": [
            "The largest element in the list is: 50\n"
          ]
        }
      ]
    },
    {
      "cell_type": "code",
      "source": [
        "# Write a Python program to reverse a list.\n",
        "my_list = [1, 2, 3, 4, 5]\n",
        "reversed_list = my_list[::-1]\n",
        "print(\"The reversed list is:\", reversed_list)\n",
        "\n"
      ],
      "metadata": {
        "colab": {
          "base_uri": "https://localhost:8080/"
        },
        "id": "QYhR1UytbcGA",
        "outputId": "f31da5b3-4753-4ea4-f455-fa3f38fa2d55"
      },
      "execution_count": null,
      "outputs": [
        {
          "output_type": "stream",
          "name": "stdout",
          "text": [
            "The reversed list is: [5, 4, 3, 2, 1]\n"
          ]
        }
      ]
    },
    {
      "cell_type": "code",
      "source": [
        "# Write a Python program to remove all occurrences of a specific element from a list.\n",
        "my_list = [1, 2, 3, 2, 4, 2, 5]\n",
        "element = 2\n",
        "my_list = [x for x in my_list if x != element]\n",
        "print\n"
      ],
      "metadata": {
        "colab": {
          "base_uri": "https://localhost:8080/"
        },
        "id": "9HFjmSXObjgb",
        "outputId": "79682386-3ea7-4f3b-9067-f3defc846641"
      },
      "execution_count": null,
      "outputs": [
        {
          "output_type": "execute_result",
          "data": {
            "text/plain": [
              "<function print>"
            ]
          },
          "metadata": {},
          "execution_count": 11
        }
      ]
    },
    {
      "cell_type": "code",
      "source": [
        "# Write a Python program to find the index of an element in a list.\n",
        "my_list = [10, 20, 30, 40, 50]\n",
        "element = 30\n",
        "index = my_list.index(element)\n",
        "print(\"The index of\", element, \"in the list is:\", index)\n"
      ],
      "metadata": {
        "colab": {
          "base_uri": "https://localhost:8080/"
        },
        "id": "29LiKAH-bn2H",
        "outputId": "45d79201-3fb0-40a4-c0d3-8595e967d968"
      },
      "execution_count": null,
      "outputs": [
        {
          "output_type": "stream",
          "name": "stdout",
          "text": [
            "The index of 30 in the list is: 2\n"
          ]
        }
      ]
    },
    {
      "cell_type": "code",
      "source": [
        "# Write a Python program to find if a specific element exists in a list.\n",
        "my_list = [1, 2, 3, 4, 5]\n",
        "element = 3\n",
        "if element in my_list:\n",
        "    print(\"The element\", element, \"exists in the list.\")"
      ],
      "metadata": {
        "colab": {
          "base_uri": "https://localhost:8080/"
        },
        "id": "tSibNgWSbvJT",
        "outputId": "b0037857-8414-479c-a0fb-611152a69d7c"
      },
      "execution_count": null,
      "outputs": [
        {
          "output_type": "stream",
          "name": "stdout",
          "text": [
            "The element 3 exists in the list.\n"
          ]
        }
      ]
    },
    {
      "cell_type": "code",
      "source": [
        "# Write a Python program to remove duplicates from a list.\n",
        "my_list = [1, 2, 2, 3, 4, 4, 5]\n",
        "unique_list = list(set(my_list))\n",
        "print(\"The list with duplicates removed is:\", unique_list)\n"
      ],
      "metadata": {
        "colab": {
          "base_uri": "https://localhost:8080/"
        },
        "id": "sTs4815Bb3HD",
        "outputId": "2947a696-7555-43f6-cf23-81bbc310bf69"
      },
      "execution_count": null,
      "outputs": [
        {
          "output_type": "stream",
          "name": "stdout",
          "text": [
            "The list with duplicates removed is: [1, 2, 3, 4, 5]\n"
          ]
        }
      ]
    },
    {
      "cell_type": "code",
      "source": [
        "# Write a Python program to count the occurrences of an element in a list.\n",
        "\n",
        "my_list = [1, 2, 3, 2, 4, 2, 5]\n",
        "element = 2\n",
        "count = my_list.count(element)\n",
        "print(\"The element\", element, \"appears\", count, \"times in the list.\")\n"
      ],
      "metadata": {
        "colab": {
          "base_uri": "https://localhost:8080/"
        },
        "id": "b6C6TYMqb-D-",
        "outputId": "723f9b7b-4597-48c3-97f3-0badf4e44fe9"
      },
      "execution_count": null,
      "outputs": [
        {
          "output_type": "stream",
          "name": "stdout",
          "text": [
            "The element 2 appears 3 times in the list.\n"
          ]
        }
      ]
    },
    {
      "cell_type": "code",
      "source": [
        "# Write a Python program to get the number of even numbers in a list.\n",
        "my_list = [1, 2, 3, 4, 5, 6, 7, 8, 9]\n",
        "even_count = sum(1 for num in my_list if num % 2 == 0)\n",
        "print(\"The number of even numbers in the list is:\", even_count)\n",
        "\n",
        "\n",
        "\n",
        "\n"
      ],
      "metadata": {
        "colab": {
          "base_uri": "https://localhost:8080/"
        },
        "id": "z4KzBRnGcFb-",
        "outputId": "dbb06414-c849-468b-8ea0-917c33dc5fc7"
      },
      "execution_count": null,
      "outputs": [
        {
          "output_type": "stream",
          "name": "stdout",
          "text": [
            "The number of even numbers in the list is: 4\n"
          ]
        }
      ]
    },
    {
      "cell_type": "code",
      "source": [
        "# Write a Python program to create a tuple and print it.\n",
        "my_tuple = (1, 2, 3, 4, 5)\n",
        "print(\"The tuple is:\", my_tuple)\n",
        "\n"
      ],
      "metadata": {
        "colab": {
          "base_uri": "https://localhost:8080/"
        },
        "id": "KKpbU47PcVoV",
        "outputId": "e8b28c99-1419-4838-ef2c-72ce90020bae"
      },
      "execution_count": null,
      "outputs": [
        {
          "output_type": "stream",
          "name": "stdout",
          "text": [
            "The tuple is: (1, 2, 3, 4, 5)\n"
          ]
        }
      ]
    },
    {
      "cell_type": "code",
      "source": [
        "# Write a Python program to convert a tuple to a list and vice versa.\n",
        "my_tuple = (1, 2, 3, 4, 5)\n",
        "my_list = list(my_tuple)\n",
        "print(\"The list created from the tuple is:\", my_list)"
      ],
      "metadata": {
        "colab": {
          "base_uri": "https://localhost:8080/"
        },
        "id": "-PGnAC5Gca5V",
        "outputId": "4089f7d6-2e62-4c53-f2d0-fd055aff9e2f"
      },
      "execution_count": null,
      "outputs": [
        {
          "output_type": "stream",
          "name": "stdout",
          "text": [
            "The list created from the tuple is: [1, 2, 3, 4, 5]\n"
          ]
        }
      ]
    },
    {
      "cell_type": "code",
      "source": [
        "# Write a Python program to find the maximum and minimum values in a tuple\n",
        "my_tuple = (10, 20, 30, 40, 50)\n",
        "maximum = max(my_tuple)\n",
        "minimum = min(my_tuple)\n",
        "print(\"The maximum value in the tuple is:\", maximum)\n",
        "print(\"The minimum value in the tuple is:\", minimum)"
      ],
      "metadata": {
        "colab": {
          "base_uri": "https://localhost:8080/"
        },
        "id": "CmpU-a0JciMe",
        "outputId": "c96c84d8-d74c-48fe-e1a3-f9ae3f656be1"
      },
      "execution_count": null,
      "outputs": [
        {
          "output_type": "stream",
          "name": "stdout",
          "text": [
            "The maximum value in the tuple is: 50\n",
            "The minimum value in the tuple is: 10\n"
          ]
        }
      ]
    },
    {
      "cell_type": "code",
      "source": [
        "# Write a Python program to unpack a tuple into variables.\n",
        "my_tuple = (10, 20, 30)\n",
        "a, b, c = my_tuple\n",
        "print(\"The values in the tuple are:\", a, b, c)\n"
      ],
      "metadata": {
        "colab": {
          "base_uri": "https://localhost:8080/"
        },
        "id": "fRxYRCnZcoZU",
        "outputId": "f6318d37-a95f-4ef1-f2ac-3c3ddbba0b74"
      },
      "execution_count": null,
      "outputs": [
        {
          "output_type": "stream",
          "name": "stdout",
          "text": [
            "The values in the tuple are: 10 20 30\n"
          ]
        }
      ]
    },
    {
      "cell_type": "code",
      "source": [
        "# Write a Python program to add an element to a set and check if an element exists in the set.\n",
        "my_set = {1, 2, 3, 4, 5}\n",
        "my_set.add(6)\n",
        "print(\"The set after adding an element is:\", my_set)\n",
        "\n",
        "element = 3\n",
        "\n",
        "if element in my_set:\n",
        "    print(\"The element\", element, \"exists in the set.\")\n",
        "else:\n",
        "    print(\"The element\", element, \"does not exist in the set.\")\n",
        "    my_set.add(element)\n",
        "    print(\"The set after adding the element is:\", my_set)\n",
        "\n",
        "\n",
        "\n",
        "\n",
        "\n"
      ],
      "metadata": {
        "id": "r5OYYZxC1-Hj",
        "outputId": "cc3b7593-80c8-4c2b-e5c3-c284a939cde3",
        "colab": {
          "base_uri": "https://localhost:8080/"
        }
      },
      "execution_count": 3,
      "outputs": [
        {
          "output_type": "stream",
          "name": "stdout",
          "text": [
            "The set after adding an element is: {1, 2, 3, 4, 5, 6}\n",
            "The element 3 exists in the set.\n"
          ]
        }
      ]
    },
    {
      "cell_type": "code",
      "source": [
        "# Write a Python program to create a dictionary with keys and values and print it.\n",
        "my_dict = {'a': 1, 'b': 2, 'c': 3}\n",
        "print(\"The dictionary is:\", my_dict)\n",
        "\n",
        "\n",
        "\n"
      ],
      "metadata": {
        "id": "96A8g4pi5JUC",
        "outputId": "9c3175a4-ea20-46b2-f854-090394c63848",
        "colab": {
          "base_uri": "https://localhost:8080/"
        }
      },
      "execution_count": 4,
      "outputs": [
        {
          "output_type": "stream",
          "name": "stdout",
          "text": [
            "The dictionary is: {'a': 1, 'b': 2, 'c': 3}\n"
          ]
        }
      ]
    },
    {
      "cell_type": "code",
      "source": [
        "# Write a Python program to access a dictionary value using a key.\n",
        "my_dict = {'a': 1, 'b': 2, 'c': 3}\n",
        "key = 'b'\n",
        "value = my_dict[key]\n",
        "print(\"The value associated with key\", key, \"is:\", value)\n",
        "\n",
        "\n",
        "\n",
        ""
      ],
      "metadata": {
        "id": "kBMvz3El5Uzy",
        "outputId": "bff8704e-875e-4fdf-e8e5-56457aad7268",
        "colab": {
          "base_uri": "https://localhost:8080/"
        }
      },
      "execution_count": 5,
      "outputs": [
        {
          "output_type": "stream",
          "name": "stdout",
          "text": [
            "The value associated with key b is: 2\n"
          ]
        }
      ]
    },
    {
      "cell_type": "code",
      "source": [
        "\n",
        "# Write a Python program to check if a key exists in a dictionary.\n",
        "my_dict = {'a': 1, 'b': 2, 'c': 3}\n",
        "key = 'b'\n",
        "if key in my_dict:\n",
        "    print(\"The key\", key, \"exists in the dictionary.\")\n",
        "    value = my_dict[key]\n",
        "    print(\"The value associated with key\", key, \"is:\", value)\n",
        "else:\n",
        "    print(\"The key\", key, \"does not exist in the dictionary.\")\n",
        "    my_dict[key] = 4\n",
        "    print(\"The dictionary after adding the key-value pair is:\", my_dict)\n",
        "    value = my_dict[key]\n",
        "    print(\"The value associated with key\", key, \"is:\", value)'  '''"
      ],
      "metadata": {
        "id": "1zqprQKK5fvj",
        "outputId": "37f8b004-d7cf-464f-d93e-11550c96111e",
        "colab": {
          "base_uri": "https://localhost:8080/",
          "height": 106
        }
      },
      "execution_count": 6,
      "outputs": [
        {
          "output_type": "error",
          "ename": "SyntaxError",
          "evalue": "invalid syntax (<ipython-input-6-7f6116c000e3>, line 13)",
          "traceback": [
            "\u001b[0;36m  File \u001b[0;32m\"<ipython-input-6-7f6116c000e3>\"\u001b[0;36m, line \u001b[0;32m13\u001b[0m\n\u001b[0;31m    print(\"The value associated with key\", key, \"is:\", value)'  '''\u001b[0m\n\u001b[0m                                                             ^\u001b[0m\n\u001b[0;31mSyntaxError\u001b[0m\u001b[0;31m:\u001b[0m invalid syntax\n"
          ]
        }
      ]
    },
    {
      "cell_type": "code",
      "source": [
        "# Write a Python program to remove a key from a dictionary.\n",
        "my_dict = {'a': 1, 'b': 2, 'c': 3}\n",
        "key = 'b'\n",
        "if key in my_dict:\n",
        "    del my_dict[key]\n",
        "    print(\"The dictionary after removing the key is:\", my_dict)\n",
        "else:\n",
        "    print(\"The key\", key, \"does not exist in the dictionary.\")\n",
        "\n",
        "    my_dict[key] = 4\n",
        "    print(\"The dictionary after adding the key-value pair is:\", my_dict)\n",
        "    del my_dict[key]\n",
        "    print(\"The dictionary after removing the key is:\", my_dict)\n",
        "\n"
      ],
      "metadata": {
        "id": "UdhXZF2f5snv",
        "outputId": "bd055aaa-0b76-4253-f3fc-56f672f89ea0",
        "colab": {
          "base_uri": "https://localhost:8080/"
        }
      },
      "execution_count": 8,
      "outputs": [
        {
          "output_type": "stream",
          "name": "stdout",
          "text": [
            "The dictionary after removing the key is: {'a': 1, 'c': 3}\n"
          ]
        }
      ]
    },
    {
      "cell_type": "code",
      "source": [
        "# Write a Python program to get the number of keys in a dictionary.\n",
        "my_dict = {'a': 1, 'b': 2, 'c': 3}\n",
        "num_keys = len(my_dict)\n",
        "print(\"The number of keys in the dictionary is:\", num_keys)\n",
        "\n",
        "\n"
      ],
      "metadata": {
        "id": "Ec3Ya3kk6HFG",
        "outputId": "9240c860-345e-45f1-ef38-f83495d7be80",
        "colab": {
          "base_uri": "https://localhost:8080/"
        }
      },
      "execution_count": 1,
      "outputs": [
        {
          "output_type": "stream",
          "name": "stdout",
          "text": [
            "The number of keys in the dictionary is: 3\n"
          ]
        }
      ]
    },
    {
      "cell_type": "code",
      "source": [
        "# Write a Python program to find the largest and smallest values in a dictionary.\n",
        "my_dict = {'a': 10, 'b': 20, 'c': 30}\n",
        "largest_value = max(my_dict.values())\n",
        "smallest_value = min(my_dict.values())\n",
        "print(\"The largest value in the dictionary is:\", largest_value)\n",
        "print(\"The smallest value in the dictionary is:\", smallest_value)\n",
        "\n",
        "\n",
        "\n",
        "\n"
      ],
      "metadata": {
        "id": "AWpeJ7pYdaCQ",
        "outputId": "215d89be-b230-410f-d30e-31b5962b9613",
        "colab": {
          "base_uri": "https://localhost:8080/"
        }
      },
      "execution_count": 2,
      "outputs": [
        {
          "output_type": "stream",
          "name": "stdout",
          "text": [
            "The largest value in the dictionary is: 30\n",
            "The smallest value in the dictionary is: 10\n"
          ]
        }
      ]
    },
    {
      "cell_type": "markdown",
      "source": [
        "Functions (User-Defined, Arguments, Keyword Arguments, Return Values)"
      ],
      "metadata": {
        "id": "ThmZWktkd-Ps"
      }
    },
    {
      "cell_type": "code",
      "source": [
        "# Write a Python function that returns the square of a number.\n",
        "def square(x):\n",
        "    return x ** 2\n",
        "result = square(5)\n",
        "print(\"The square of 5 is:\", result)\n"
      ],
      "metadata": {
        "id": "odgQYc6oeCN1",
        "outputId": "0fece226-999c-41e1-86eb-164be2293e57",
        "colab": {
          "base_uri": "https://localhost:8080/"
        }
      },
      "execution_count": 3,
      "outputs": [
        {
          "output_type": "stream",
          "name": "stdout",
          "text": [
            "The square of 5 is: 25\n"
          ]
        }
      ]
    },
    {
      "cell_type": "code",
      "source": [
        "# Write a Python function that accepts two parameters and returns their sum.\n",
        "def add(x, y):\n",
        "    return x + y\n",
        "result = add(3, 4)\n",
        "print(\"The sum of 3 and 4 is:\", result)\n"
      ],
      "metadata": {
        "id": "pPlPZiKJeRmX",
        "outputId": "661b923b-5c67-4a93-de72-9e40c16f927a",
        "colab": {
          "base_uri": "https://localhost:8080/"
        }
      },
      "execution_count": 4,
      "outputs": [
        {
          "output_type": "stream",
          "name": "stdout",
          "text": [
            "The sum of 3 and 4 is: 7\n"
          ]
        }
      ]
    },
    {
      "cell_type": "code",
      "source": [
        "# Write a Python function to check if a given number is prime.\n",
        "def is_prime(n):\n",
        "    if n <= 1:\n",
        "        return False\n",
        "    for i in range(2, int(n ** 0.5) + 1):  # Corrected indentation\n",
        "        if n % i == 0:\n",
        "            return False\n",
        "    return True\n",
        "\n",
        "result = is_prime(7)\n",
        "print(\"Is 7 a prime number?\", result)\n",
        "\n"
      ],
      "metadata": {
        "id": "fYfjjNa9eWF_",
        "outputId": "0a32b551-ee25-43a8-806b-143659ef4a80",
        "colab": {
          "base_uri": "https://localhost:8080/"
        }
      },
      "execution_count": 7,
      "outputs": [
        {
          "output_type": "stream",
          "name": "stdout",
          "text": [
            "Is 7 a prime number? True\n"
          ]
        }
      ]
    },
    {
      "cell_type": "code",
      "source": [
        "# Write a Python function to calculate the factorial of a number using recursion.\n",
        "def factorial(n):\n",
        "    if n == 0:\n",
        "        return 1\n",
        "    else:\n",
        "        return n * factorial(n - 1)\n",
        "result = factorial(5)\n",
        "print(\"The factorial of 5 is:\", result)"
      ],
      "metadata": {
        "id": "yqcYDZ16ee9C",
        "outputId": "d303ebda-9de3-454b-8e41-1c7005e2c6ae",
        "colab": {
          "base_uri": "https://localhost:8080/"
        }
      },
      "execution_count": 8,
      "outputs": [
        {
          "output_type": "stream",
          "name": "stdout",
          "text": [
            "The factorial of 5 is: 120\n"
          ]
        }
      ]
    },
    {
      "cell_type": "code",
      "source": [
        "# Write a Python function to calculate the power of a number using recursion.\n",
        "\n",
        "\n"
      ],
      "metadata": {
        "id": "PxUeT8vnfLUw"
      },
      "execution_count": null,
      "outputs": []
    },
    {
      "cell_type": "code",
      "source": [
        "# Write a Python function to accept a list and return its length without using the built-in len() function.\n",
        "\n"
      ],
      "metadata": {
        "id": "zjvkgq5Xfk8h"
      },
      "execution_count": null,
      "outputs": []
    },
    {
      "cell_type": "code",
      "source": [
        "\n",
        "# Write a Python function that accepts both positional and keyword arguments and prints the sum of positional arguments.\n",
        "def sum_positional_arguments(*args):\n",
        "    total = sum(args)\n",
        "    print(\"The sum of positional arguments is:\", total)\n",
        "    sum_positional_arguments(1, 2, 3, 4, 5)\n",
        "\n",
        "\n"
      ],
      "metadata": {
        "id": "7wy9BBTPftRU"
      },
      "execution_count": 10,
      "outputs": []
    },
    {
      "cell_type": "code",
      "source": [
        "# Write a Python function to find the maximum of two numbers using keyword arguments.\n",
        "def find_maximum(a, b):\n",
        "    if a >= b:\n",
        "        return a\n",
        "    else:\n",
        "        return b\n",
        "maximum = find_maximum(b=5, a=3)\n",
        "print(\"The maximum of 3 and 5 is:\", maximum)"
      ],
      "metadata": {
        "id": "uljnyL4NgAmq",
        "outputId": "ccec37f7-428f-4965-dc5f-862f2cf194e1",
        "colab": {
          "base_uri": "https://localhost:8080/"
        }
      },
      "execution_count": 11,
      "outputs": [
        {
          "output_type": "stream",
          "name": "stdout",
          "text": [
            "The maximum of 3 and 5 is: 5\n"
          ]
        }
      ]
    },
    {
      "cell_type": "code",
      "source": [
        "# Write a Python function to check if a number is even or odd using the modulo operator.\n",
        "def is_even(n):\n",
        "    if n % 2 == 0:\n",
        "        return True\n",
        "    else:\n",
        "        return False\n",
        "result = is_even(7)\n",
        "print(\"Is 7 even?\", result)\n"
      ],
      "metadata": {
        "id": "jU9i9ENRgKZY",
        "outputId": "6a10c57a-1562-42eb-c879-7bceeda41078",
        "colab": {
          "base_uri": "https://localhost:8080/"
        }
      },
      "execution_count": 12,
      "outputs": [
        {
          "output_type": "stream",
          "name": "stdout",
          "text": [
            "Is 7 even? False\n"
          ]
        }
      ]
    },
    {
      "cell_type": "code",
      "source": [
        "# Write a Python program to filter out all even numbers from a list using list comprehension.\n",
        "numbers = [1, 2, 3, 4, 5, 6, 7, 8, 9, 10]\n",
        "even_numbers = [x for x in numbers if x % 2 == 0]\n",
        "print(\"The list of even numbers is:\", even_numbers)\n"
      ],
      "metadata": {
        "id": "rWcWibZ_ghIB",
        "outputId": "01e1dcaa-f4fd-45a8-c73a-037f48d3d45a",
        "colab": {
          "base_uri": "https://localhost:8080/"
        }
      },
      "execution_count": 14,
      "outputs": [
        {
          "output_type": "stream",
          "name": "stdout",
          "text": [
            "The list of even numbers is: [2, 4, 6, 8, 10]\n"
          ]
        }
      ]
    },
    {
      "cell_type": "code",
      "source": [
        "# Write a Python program to create a list of strings that are longer than 4 characters from a given list of words using list comprehension.\n",
        "words = ['apple', 'banana', 'cherry', 'date', 'elderberry']\n",
        "long_words = [word for word in words if len(word) > 4]\n",
        "print(\"The list of words longer than 4 characters is:\", long_words)\n"
      ],
      "metadata": {
        "id": "S9pu5zCBgq6G",
        "outputId": "ec13a0d6-7609-4219-fe3d-d9e0a4437e98",
        "colab": {
          "base_uri": "https://localhost:8080/"
        }
      },
      "execution_count": 15,
      "outputs": [
        {
          "output_type": "stream",
          "name": "stdout",
          "text": [
            "The list of words longer than 4 characters is: ['apple', 'banana', 'cherry', 'elderberry']\n"
          ]
        }
      ]
    },
    {
      "cell_type": "code",
      "source": [
        "# Write a Python program to filter out all even numbers from a list using list comprehension.\n",
        "numbers = [1, 2, 3, 4, 5, 6, 7, 8, 9, 10]\n",
        "even_numbers = [x for x in numbers if x % 2 == 0]\n",
        "print(\"The list of even numbers is:\", even_numbers)\n",
        "\n"
      ],
      "metadata": {
        "id": "Mjs2dVcE8r4c",
        "outputId": "a5fede17-4089-4e0d-8304-c6177d39af32",
        "colab": {
          "base_uri": "https://localhost:8080/"
        }
      },
      "execution_count": 1,
      "outputs": [
        {
          "output_type": "stream",
          "name": "stdout",
          "text": [
            "The list of even numbers is: [2, 4, 6, 8, 10]\n"
          ]
        }
      ]
    },
    {
      "cell_type": "code",
      "source": [
        "# Write a Python program to create a list of strings that are longer than 4 characters from a given list of words using list comprehension.\n",
        "\n",
        "words = [\"apple\", \"bat\", \"elephant\", \"dog\", \"python\", \"sun\"]\n",
        "long_words = [word for word in words if len(word) > 4]\n",
        "print(\"Words longer than 4 characters:\", long_words)\n"
      ],
      "metadata": {
        "id": "82h8GMTXCt5a",
        "outputId": "addacac4-bc0d-4ce0-a20f-3e719072fbbc",
        "colab": {
          "base_uri": "https://localhost:8080/"
        }
      },
      "execution_count": 2,
      "outputs": [
        {
          "output_type": "stream",
          "name": "stdout",
          "text": [
            "Words longer than 4 characters: ['apple', 'elephant', 'python']\n"
          ]
        }
      ]
    },
    {
      "cell_type": "code",
      "source": [
        "# Write a Python program to generate the first n Fibonacci numbers using list comprehension.\n",
        "def generate_fibonacci(n):\n",
        "    fibonacci = [0, 1]\n",
        "    [fibonacci.append(fibonacci[-1] + fibonacci[-2]) for _ in range(n - 2)]\n",
        "    return fibonacci\n",
        "    fibonacci_numbers = generate_fibonacci(10)\n",
        "    print(\"The first 10 Fibonacci numbers are:\", fibonacci_numbers)\n",
        "\n"
      ],
      "metadata": {
        "id": "k_t4QMnCEImT"
      },
      "execution_count": 3,
      "outputs": []
    },
    {
      "cell_type": "code",
      "source": [
        "# Write a Python program to create a dictionary where keys are numbers and values are their squares using dictionary comprehension.\n",
        "squares = {x: x**2 for x in range(1, 6)}\n",
        "print(\"The dictionary of squares is:\", squares)\n",
        "\n",
        "\n",
        "\n"
      ],
      "metadata": {
        "id": "vQq1Q2GGEfkt",
        "outputId": "2e069e97-1b23-4b22-f606-6d8ca3981dbb",
        "colab": {
          "base_uri": "https://localhost:8080/"
        }
      },
      "execution_count": 4,
      "outputs": [
        {
          "output_type": "stream",
          "name": "stdout",
          "text": [
            "The dictionary of squares is: {1: 1, 2: 4, 3: 9, 4: 16, 5: 25}\n"
          ]
        }
      ]
    },
    {
      "cell_type": "code",
      "source": [
        "# Write a Python program to create a dictionary from two lists (one for keys and one for values) using dictionary comprehension.\n",
        "\n",
        "keys = [\"name\", \"age\", \"city\"]\n",
        "values = [\"Alice\", 25, \"New York\"]\n",
        "dictionary = {keys[i]: values[i] for i in range(len(keys))}\n",
        "print(\"Created dictionary:\", dictionary)\n",
        "\n"
      ],
      "metadata": {
        "id": "H2bkEy4UEoKy",
        "outputId": "31ac4060-4f03-437d-80e3-8a75959aa092",
        "colab": {
          "base_uri": "https://localhost:8080/"
        }
      },
      "execution_count": 5,
      "outputs": [
        {
          "output_type": "stream",
          "name": "stdout",
          "text": [
            "Created dictionary: {'name': 'Alice', 'age': 25, 'city': 'New York'}\n"
          ]
        }
      ]
    },
    {
      "cell_type": "code",
      "source": [
        "# Write a Python program to create a dictionary of numbers from 1 to\n",
        "\n",
        "cubes_dict = {num: num**3 for num in range(1, 6)}\n",
        "\n",
        "\n",
        "print(\"Dictionary of numbers and their cubes:\", cubes_dict)\n",
        "\n"
      ],
      "metadata": {
        "id": "BPVZa0SRGT-o",
        "outputId": "fcf179ce-a5e0-4624-a8f6-8303bcb5a3a7",
        "colab": {
          "base_uri": "https://localhost:8080/"
        }
      },
      "execution_count": 7,
      "outputs": [
        {
          "output_type": "stream",
          "name": "stdout",
          "text": [
            "Dictionary of numbers and their cubes: {1: 1, 2: 8, 3: 27, 4: 64, 5: 125}\n"
          ]
        }
      ]
    },
    {
      "cell_type": "code",
      "source": [
        "# Write a Python program to square each element of a list using the map() function.\n",
        "numbers = [1, 2, 3, 4, 5]\n",
        "squared_numbers = list(map(lambda x: x**2, numbers))\n",
        "print(\"The list of squared numbers is:\", squared_numbers)"
      ],
      "metadata": {
        "id": "euS2INeyHrY-",
        "outputId": "396dd525-3fcd-495c-c641-23d9f65fc862",
        "colab": {
          "base_uri": "https://localhost:8080/"
        }
      },
      "execution_count": 8,
      "outputs": [
        {
          "output_type": "stream",
          "name": "stdout",
          "text": [
            "The list of squared numbers is: [1, 4, 9, 16, 25]\n"
          ]
        }
      ]
    },
    {
      "cell_type": "code",
      "source": [
        "# Write a Python program to filter all even numbers from a list using the filter() function.\n",
        "numbers = [1, 2, 3, 4, 5, 6, 7, 8, 9, 10]\n",
        "even_numbers = list(filter(lambda x: x % 2 == 0, numbers))\n",
        "print(\"The list of even numbers is:\", even_numbers)\n"
      ],
      "metadata": {
        "id": "WMygINXAHx5F",
        "outputId": "0c2567ce-1504-4671-d107-0366ee1e96d1",
        "colab": {
          "base_uri": "https://localhost:8080/"
        }
      },
      "execution_count": 9,
      "outputs": [
        {
          "output_type": "stream",
          "name": "stdout",
          "text": [
            "The list of even numbers is: [2, 4, 6, 8, 10]\n"
          ]
        }
      ]
    },
    {
      "cell_type": "code",
      "source": [
        "# Write a Python program to use a lambda function to check if a number is divisible by both 3 and 5.\n",
        "is_divisible = lambda x: x % 3 == 0 and x % 5 == 0\n",
        "number = 30\n",
        "result = is_divisible(number)\n",
        "print(f\"Is {number} divisible by both 3 and 5? {result}\")"
      ],
      "metadata": {
        "id": "tOrDNzGiINwU",
        "outputId": "6b578342-39f8-4273-e897-2b5118818850",
        "colab": {
          "base_uri": "https://localhost:8080/"
        }
      },
      "execution_count": 10,
      "outputs": [
        {
          "output_type": "stream",
          "name": "stdout",
          "text": [
            "Is 30 divisible by both 3 and 5? True\n"
          ]
        }
      ]
    },
    {
      "cell_type": "code",
      "source": [
        "# Write a Python program to multiply all numbers in a list by 2 using a lambda function inside map().\n",
        "numbers = [1, 2, 3, 4, 5]\n",
        "doubled_numbers = list(map(lambda x: x * 2, numbers))\n",
        "print(\"The list of doubled numbers is:\", doubled_numbers)\n"
      ],
      "metadata": {
        "id": "2XrehUxrIf3E",
        "outputId": "85a6946f-a037-4584-b9c2-565e3033c11b",
        "colab": {
          "base_uri": "https://localhost:8080/"
        }
      },
      "execution_count": 11,
      "outputs": [
        {
          "output_type": "stream",
          "name": "stdout",
          "text": [
            "The list of doubled numbers is: [2, 4, 6, 8, 10]\n"
          ]
        }
      ]
    },
    {
      "cell_type": "code",
      "source": [
        "# Write a Python program to remove all occurrences of a specific element from a list.\n",
        "# Function to remove all occurrences of a specific element\n",
        "def remove_all_occurrences(lst, element):\n",
        "    return [x for x in lst if x != element]\n",
        "\n",
        "numbers = [1, 2, 3, 2, 4, 2, 5]\n",
        "\n",
        "element_to_remove = 2\n",
        "\n",
        "\n",
        "result = remove_all_occurrences(numbers, element_to_remove)\n",
        "\n",
        "print(\"Original list:\", numbers)\n",
        "print(f\"List after removing all occurrences of {element_to_remove}:\", result)\n"
      ],
      "metadata": {
        "id": "aIGZ0XSoIlsH",
        "outputId": "d0f4a52c-0248-472b-a170-83fdd1d0d21f",
        "colab": {
          "base_uri": "https://localhost:8080/"
        }
      },
      "execution_count": 13,
      "outputs": [
        {
          "output_type": "stream",
          "name": "stdout",
          "text": [
            "Original list: [1, 2, 3, 2, 4, 2, 5]\n",
            "List after removing all occurrences of 2: [1, 3, 4, 5]\n"
          ]
        }
      ]
    },
    {
      "cell_type": "code",
      "source": [],
      "metadata": {
        "id": "U-_fB9xNJhOc"
      },
      "execution_count": null,
      "outputs": []
    }
  ]
}